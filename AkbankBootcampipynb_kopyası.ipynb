{
  "nbformat": 4,
  "nbformat_minor": 0,
  "metadata": {
    "colab": {
      "provenance": []
    },
    "kernelspec": {
      "name": "python3",
      "display_name": "Python 3"
    },
    "language_info": {
      "name": "python"
    }
  },
  "cells": [
    {
      "cell_type": "markdown",
      "source": [
        "##AKBANK BOOTCAMP##"
      ],
      "metadata": {
        "id": "T6VnLKGqXXp8"
      }
    },
    {
      "cell_type": "code",
      "source": [
        "def init(self):\n",
        "   self.file= open(''books.txt'', ''a+'')\n",
        "   def del(self):\n",
        "\n",
        "  class Kutuphane:\n",
        "\n",
        "       def _init_(self, kitap_adi, kitap_yazari, 2016):\n",
        "         self.kitap_adi= Serenad\n",
        "         self.kitap_yazari= Livaneli\n",
        "         self.2016= 2016\n",
        "\n",
        "      def bilgileri_goster(self):\n",
        "          print(''kitap_adi:'', self.kitap_adi)\n",
        "          print(''kitap_yazari:'', self.kitap_yazari)\n",
        "          print(2016, self.2016)\n",
        "\n",
        "     kitap= Kutuphane(''Serenad'', ''Livaneli'', 2016)\n",
        "     kitap.bilgileri_goster()\n",
        "\n",
        "\n"
      ],
      "metadata": {
        "colab": {
          "base_uri": "https://localhost:8080/",
          "height": 105
        },
        "id": "fZZhUrXAXa6B",
        "outputId": "a1817675-deb0-4c6d-bd4a-d37acaa055af"
      },
      "execution_count": 69,
      "outputs": [
        {
          "output_type": "error",
          "ename": "IndentationError",
          "evalue": "unindent does not match any outer indentation level (<tokenize>, line 5)",
          "traceback": [
            "\u001b[0;36m  File \u001b[0;32m\"<tokenize>\"\u001b[0;36m, line \u001b[0;32m5\u001b[0m\n\u001b[0;31m    class Kutuphane:\u001b[0m\n\u001b[0m    ^\u001b[0m\n\u001b[0;31mIndentationError\u001b[0m\u001b[0;31m:\u001b[0m unindent does not match any outer indentation level\n"
          ]
        }
      ]
    },
    {
      "cell_type": "code",
      "source": [
        "\n",
        "kitap_adi = ['Serenad']\n",
        "kitap_yazari = ['Livaneli']\n",
        "yayin_yili = [2016]\n",
        "##kitaplari listele##\n",
        "kitap_listesi = ['Serenad', 'Harry Potter', 'Yabanci']\n",
        "##kitaplari cikart##\n",
        "kitap_listesi.remove('Harry Potter')\n",
        "kitap_listesi.remove('Yabanci')\n",
        "print(kitap_listesi)\n",
        "##ekle##\n",
        "kitap_listesi.append('livaneli')\n",
        "kitap_listesi.append(2016)\n",
        "print(kitap_listesi)\n",
        "\n",
        "\n"
      ],
      "metadata": {
        "colab": {
          "base_uri": "https://localhost:8080/"
        },
        "id": "ohFeVpFqfXGe",
        "outputId": "b725625a-3200-4292-dd80-4d8380ed5aa5"
      },
      "execution_count": 70,
      "outputs": [
        {
          "output_type": "stream",
          "name": "stdout",
          "text": [
            "['Serenad']\n",
            "['Serenad', 'livaneli', 2016]\n"
          ]
        }
      ]
    }
  ]
}